{
  "cells": [
    {
      "cell_type": "markdown",
      "id": "2ed91a23",
      "metadata": {
        "id": "2ed91a23"
      },
      "source": [
        "## Assignment 2: N-gram Language Models\n",
        "\n",
        "### *CS 4770 Natural Language Processing (Fall 2025)*\n",
        "\n",
        "In this assignment, you will implement N-gram language models (Unigram, Bigram, and Trigram) using Python. You will train your models on a given corpus, apply smoothing techniques, and evaluate your models using perplexity on a test set.\n",
        "\n",
        "### Tasks\n",
        "1. **Python implementation of N-gram Language Models**: Train Unigram, Bigram, and Trigram models.\n",
        "2. **Smoothing Techniques**: Implement add-k smoothing and interpolation.\n",
        "3. **Language Model Evaluation**: Using n-gram models to generate texts and calculate perplexity to evaluate your models.\n",
        "\n",
        "### Note\n",
        "Remember to delete ```raise NotImplementedError``` before completing the TODOs.\n"
      ]
    },
    {
      "cell_type": "markdown",
      "id": "5tShS--7dPH2",
      "metadata": {
        "id": "5tShS--7dPH2"
      },
      "source": [
        "### 0. Setup\n",
        "\n",
        "Run this cell to setup necessary packages and environments. No need to modify anything in this cell."
      ]
    },
    {
      "cell_type": "code",
      "execution_count": 3,
      "id": "1a5fcc59",
      "metadata": {
        "id": "1a5fcc59"
      },
      "outputs": [
        {
          "name": "stderr",
          "output_type": "stream",
          "text": [
            "[nltk_data] Downloading package brown to\n",
            "[nltk_data]     C:\\Users\\User\\AppData\\Roaming\\nltk_data...\n",
            "[nltk_data]   Package brown is already up-to-date!\n",
            "[nltk_data] Downloading package punkt to\n",
            "[nltk_data]     C:\\Users\\User\\AppData\\Roaming\\nltk_data...\n",
            "[nltk_data]   Package punkt is already up-to-date!\n",
            "[nltk_data] Downloading package punkt_tab to\n",
            "[nltk_data]     C:\\Users\\User\\AppData\\Roaming\\nltk_data...\n",
            "[nltk_data]   Package punkt_tab is already up-to-date!\n"
          ]
        },
        {
          "data": {
            "text/plain": [
              "True"
            ]
          },
          "execution_count": 3,
          "metadata": {},
          "output_type": "execute_result"
        }
      ],
      "source": [
        "# Import required packages\n",
        "import numpy as np\n",
        "import torch\n",
        "import nltk\n",
        "from sklearn.model_selection import train_test_split\n",
        "\n",
        "# Set random seeds\n",
        "np.random.seed(42)\n",
        "torch.manual_seed(42)\n",
        "torch.cuda.manual_seed(42)\n",
        "\n",
        "# Download the Reuters corpus\n",
        "nltk.download('brown')\n",
        "nltk.download('punkt')\n",
        "nltk.download('punkt_tab')"
      ]
    },
    {
      "cell_type": "markdown",
      "id": "86f4b7a4",
      "metadata": {
        "id": "86f4b7a4"
      },
      "source": [
        "### 1. Python implementation of N-gram Language Models\n",
        "\n",
        "Import the previously downloaded corpus, split it into training and test sets, and apply necessary preprocessing. No need to modify anything in this cell.\n"
      ]
    },
    {
      "cell_type": "code",
      "execution_count": 4,
      "id": "010b4860",
      "metadata": {
        "id": "010b4860"
      },
      "outputs": [],
      "source": [
        "from nltk.corpus import brown, reuters, inaugural\n",
        "\n",
        "# Load the Reuters corpus and split into training and test sets\n",
        "corpus = brown.sents()[:2000]\n",
        "\n",
        "# Add a start and end token for each sentence\n",
        "corpus = [ ['[BOS]'] + [w.lower() for w in sent] + ['[EOS]'] for sent in corpus]\n",
        "\n",
        "train_corpus, test_corpus = train_test_split(corpus, test_size=0.2, random_state=42)"
      ]
    },
    {
      "cell_type": "markdown",
      "id": "f09d6454",
      "metadata": {
        "id": "f09d6454"
      },
      "source": [
        "#### 1.1 Unigram Language Model\n",
        "Calculate unigram probabilities based on the training set by completing the TODO."
      ]
    },
    {
      "cell_type": "code",
      "execution_count": null,
      "id": "64074811",
      "metadata": {
        "id": "64074811"
      },
      "outputs": [],
      "source": [
        "def train_unigram_lm(corpus):\n",
        "    unigram_counts = {}\n",
        "    unigram_model = {}\n",
        "\n",
        "    for sentence in corpus:\n",
        "        for word in sentence:\n",
        "            if word not in unigram_counts:\n",
        "                unigram_counts[word] = 1\n",
        "            else:\n",
        "                unigram_counts[word] += 1\n",
        "\n",
        "    total_words = sum(unigram_counts.values())\n",
        "\n",
        "    # TODO: Calculate unigram probabilities using unigram counts\n",
        "    raise NotImplementedError\n",
        "\n",
        "    return unigram_counts, unigram_model\n",
        "\n",
        "unigram_counts, unigram_model = train_unigram_lm(train_corpus)"
      ]
    },
    {
      "cell_type": "markdown",
      "id": "1b5ecfb4",
      "metadata": {
        "id": "1b5ecfb4"
      },
      "source": [
        "#### 1.2 Bigram Language Model\n",
        "Calculate bigram probabilities based on the training set by completing the TODO.\n"
      ]
    },
    {
      "cell_type": "code",
      "execution_count": null,
      "id": "1c0ed704",
      "metadata": {
        "id": "1c0ed704"
      },
      "outputs": [],
      "source": [
        "def train_bigram_lm(corpus):\n",
        "    unigram_counts, _ = train_unigram_lm(corpus)\n",
        "    bigram_counts = {}\n",
        "    bigram_model = {}\n",
        "\n",
        "    for sentence in corpus:\n",
        "        for i in range(len(sentence) - 1):\n",
        "            bigram = (sentence[i], sentence[i + 1])\n",
        "            if bigram not in bigram_counts:\n",
        "                bigram_counts[bigram] = 1\n",
        "            else:\n",
        "                bigram_counts[bigram] += 1\n",
        "\n",
        "    # TODO: Calculate bigram probabilities using bigram counts\n",
        "    raise NotImplementedError\n",
        "\n",
        "    return bigram_counts, bigram_model\n",
        "\n",
        "bigram_counts, bigram_model = train_bigram_lm(train_corpus)"
      ]
    },
    {
      "cell_type": "markdown",
      "id": "68d0ab70",
      "metadata": {
        "id": "68d0ab70"
      },
      "source": [
        "#### 1.3 Trigram Language Model\n",
        "Calculate trigram probabilities based on the training set by completing the TODO."
      ]
    },
    {
      "cell_type": "code",
      "execution_count": null,
      "id": "0b8ec576",
      "metadata": {
        "id": "0b8ec576"
      },
      "outputs": [],
      "source": [
        "def train_trigram_lm(corpus):\n",
        "    bigram_counts, _ = train_bigram_lm(corpus)\n",
        "    trigram_counts = {}\n",
        "    trigram_model = {}\n",
        "\n",
        "    for sentence in corpus:\n",
        "        for i in range(len(sentence) - 2):\n",
        "            trigram = (sentence[i], sentence[i + 1], sentence[i + 2])\n",
        "            if trigram not in trigram_counts:\n",
        "                trigram_counts[trigram] = 1\n",
        "            else:\n",
        "                trigram_counts[trigram] += 1\n",
        "\n",
        "    # TODO: Compute trigram probabilities using trigram counts\n",
        "    raise NotImplementedError\n",
        "\n",
        "    return trigram_counts, trigram_model\n",
        "\n",
        "trigram_counts, trigram_model = train_trigram_lm(train_corpus)"
      ]
    },
    {
      "cell_type": "markdown",
      "id": "9cef7ee8",
      "metadata": {
        "id": "9cef7ee8"
      },
      "source": [
        "#### 1.4 Using N-gram Language Models\n",
        "\n",
        "Just run this cell and copy the printed output to your latex. No need to modify anything in this cell."
      ]
    },
    {
      "cell_type": "code",
      "execution_count": null,
      "id": "d7611da0",
      "metadata": {
        "id": "d7611da0"
      },
      "outputs": [],
      "source": [
        "# Calculate the probability of a sample sentence using the Unigram, Bigram, and Trigram models\n",
        "\n",
        "def calulate_unigram_prob(sentence, unigram_model):\n",
        "    for idx in range(len(sentence)):\n",
        "        if idx == 0:\n",
        "            prob = 1 # assume the sentence always starts with [BOS]\n",
        "        else:\n",
        "            prob *= unigram_model.get(sentence[idx], 0)\n",
        "    return prob\n",
        "\n",
        "\n",
        "def calculate_bigram_prob(sentence, bigram_model):\n",
        "    for idx in range(len(sentence)):\n",
        "        if idx == 0:\n",
        "            prob = 1 # assume the sentence always starts with [BOS]\n",
        "        else:\n",
        "            prob *= bigram_model.get((sentence[idx-1], sentence[idx]), 0)\n",
        "    return prob\n",
        "\n",
        "def calculate_trigram_prob(sentence, trigram_model, bigram_model):\n",
        "    for idx in range(len(sentence)):\n",
        "        if idx == 0:\n",
        "            prob = 1 # assume the sentence always starts with [BOS]\n",
        "        elif idx == 1:\n",
        "            prob *= bigram_model.get((sentence[0], sentence[1]), 0)\n",
        "        else:\n",
        "            prob *= trigram_model.get((sentence[idx-2], sentence[idx-1], sentence[idx]), 0)\n",
        "    return prob\n",
        "\n",
        "sample_sentence = train_corpus[0]\n",
        "print(f'Sample sentence: {sample_sentence}')\n",
        "\n",
        "# Test the Unigram, Bigram, and Trigram models\n",
        "unigram_prob = calulate_unigram_prob(sample_sentence, unigram_model)\n",
        "bigram_prob = calculate_bigram_prob(sample_sentence, bigram_model)\n",
        "trigram_prob = calculate_trigram_prob(sample_sentence, trigram_model, bigram_model)\n",
        "\n",
        "print(f\"Unigram probability: {unigram_prob}\")\n",
        "print(f\"Bigram probability: {bigram_prob}\")\n",
        "print(f\"Trigram probability: {trigram_prob}\")\n"
      ]
    },
    {
      "cell_type": "markdown",
      "id": "e7c9c963",
      "metadata": {
        "id": "e7c9c963"
      },
      "source": [
        "### 2. Python Implementation of Smoothing\n",
        "\n",
        "Implement add-k smoothing and interpolation for your N-gram models by completing the TODO. Compare the differences in probabilities before and after applying smoothing."
      ]
    },
    {
      "cell_type": "code",
      "execution_count": null,
      "id": "a21bba37",
      "metadata": {
        "id": "a21bba37"
      },
      "outputs": [],
      "source": [
        "def add_k_smoothing(unigram_counts, bigram_counts, k):\n",
        "    smoothed_bigram_model = {}\n",
        "\n",
        "    for word_1 in unigram_counts:\n",
        "        for word_2 in unigram_counts:\n",
        "            # TODO: Compute smoothed bigram probabilities\n",
        "            raise NotImplementedError\n",
        "\n",
        "    return smoothed_bigram_model\n",
        "\n",
        "smoothed_bigram_model = add_k_smoothing(unigram_counts, bigram_counts, 0.4)\n",
        "\n",
        "sample_sentence = test_corpus[5]\n",
        "\n",
        "print(f'sample_sentence: {sample_sentence}')\n",
        "print(f'Bigram probabilities (before smoothing): {calculate_bigram_prob(sample_sentence, bigram_model)}')\n",
        "print(f\"Smoothed Bigram probabilities (add-k): {calculate_bigram_prob(sample_sentence, smoothed_bigram_model)}\")"
      ]
    },
    {
      "cell_type": "code",
      "execution_count": null,
      "id": "3fdf524e",
      "metadata": {
        "id": "3fdf524e"
      },
      "outputs": [],
      "source": [
        "def interpolate_trigram_prob(sentence, trigram_model, bigram_model, unigram_model, lambdas):\n",
        "    for idx in range(len(sentence)):\n",
        "        if idx == 0:\n",
        "            prob = 1 # assume the sentence always starts with [BOS]\n",
        "        elif idx == 1:\n",
        "            prob *= bigram_model.get((sentence[0], sentence[1]), 0)\n",
        "        else:\n",
        "            # TODO: Compute interpolated trigram probabilities\n",
        "            raise NotImplementedError\n",
        "\n",
        "    return prob\n",
        "\n",
        "sample_sentence = test_corpus[8]\n",
        "\n",
        "print(f'Trigram probabilities (before interpolation): {calculate_trigram_prob(sample_sentence, trigram_model, bigram_model)}')\n",
        "print(f'Interpolated Trigram probabilities: {interpolate_trigram_prob(sample_sentence, trigram_model, bigram_model, unigram_model, [0.1, 0.3, 0.6])}')"
      ]
    },
    {
      "cell_type": "markdown",
      "id": "fc293bad",
      "metadata": {
        "id": "fc293bad"
      },
      "source": [
        "\n",
        "### 3. N-gram Language Model Evaluation\n",
        "\n",
        "Evaluate your trained N-gram models with perplexity on the test set by completing the TODO. Answers to both TODOs are the same."
      ]
    },
    {
      "cell_type": "code",
      "execution_count": null,
      "id": "25313658",
      "metadata": {
        "id": "25313658"
      },
      "outputs": [],
      "source": [
        "def calculate_bigram_perplexity(sentence, smoothed_bigram_model):\n",
        "    \"\"\"\n",
        "    Calculates the perplexity of a sentence using the add-k smoothed bigram model.\n",
        "    \"\"\"\n",
        "    perplexity = 0\n",
        "    for idx in range(len(sentence)):\n",
        "        if idx == 0:\n",
        "            prob = 1  # assume the sentence always starts with [BOS]\n",
        "        else:\n",
        "            prob = smoothed_bigram_model.get((sentence[idx - 1], sentence[idx]), 1e-10)  # use a small prob value for unseen bigrams to avoid nan perplexity\n",
        "\n",
        "        perplexity += np.log(prob)\n",
        "\n",
        "    # TODO: Compute perplexity\n",
        "    raise NotImplementedError\n",
        "\n",
        "    return perplexity\n",
        "\n",
        "# Calculate PPL for add-k smoothed bigram model\n",
        "bigram_perplexity = []\n",
        "for sentence in test_corpus:\n",
        "    perplexity = calculate_bigram_perplexity(sentence, smoothed_bigram_model)\n",
        "    bigram_perplexity.append(perplexity)\n",
        "\n",
        "print(f\"Smoothed Bigram Perplexity (add-k): {np.mean(bigram_perplexity)}\")"
      ]
    },
    {
      "cell_type": "code",
      "execution_count": null,
      "id": "pkP5ya-vrLS_",
      "metadata": {
        "id": "pkP5ya-vrLS_"
      },
      "outputs": [],
      "source": [
        "def calculate_trigram_perplexity(sentence, trigram_model, bigram_model, unigram_model, lambdas):\n",
        "    \"\"\"\n",
        "    Calculates the perplexity of a sentence using the interpolated trigram model.\n",
        "    \"\"\"\n",
        "    perplexity = 0\n",
        "    for idx in range(len(sentence)):\n",
        "        if idx == 0:\n",
        "            prob = 1  # assume the sentence always starts with [BOS]\n",
        "        elif idx == 1:\n",
        "            prob = bigram_model.get((sentence[0], sentence[1]), 1e-10)  # use a small prob value for unseen bigrams to avoid nan perplexity\n",
        "        else:\n",
        "            prob = lambdas[0] * unigram_model.get(sentence[idx], 1e-10) + lambdas[1] * bigram_model.get((sentence[idx-1], sentence[idx]), 1e-10) + lambdas[2] * trigram_model.get((sentence[idx-2], sentence[idx-1], sentence[idx]), 1e-10)\n",
        "\n",
        "        perplexity += np.log(prob)\n",
        "\n",
        "    # TODO: Compute perplexity\n",
        "    raise NotImplementedError\n",
        "\n",
        "    return perplexity\n",
        "\n",
        "\n",
        "# Calculate PPL for interpolated trigram model\n",
        "trigram_perplexity = []\n",
        "for sentence in test_corpus:\n",
        "    perplexity = calculate_trigram_perplexity(sentence, trigram_model, bigram_model, unigram_model, [0.1, 0.3, 0.6])\n",
        "    trigram_perplexity.append(perplexity)\n",
        "\n",
        "print(f\"Interpolated Trigram Perplexity: {np.mean(trigram_perplexity)}\")"
      ]
    },
    {
      "cell_type": "markdown",
      "id": "8gZQDZUDtLKu",
      "metadata": {
        "id": "8gZQDZUDtLKu"
      },
      "source": [
        "Using your trained n-gram models to generate new texts with the greedy decoding startegy by completing the TODOs."
      ]
    },
    {
      "cell_type": "code",
      "execution_count": null,
      "id": "HS5sRydm0YCX",
      "metadata": {
        "id": "HS5sRydm0YCX"
      },
      "outputs": [],
      "source": [
        "def generate_text_unigram(unigram_model, max_seq_len):\n",
        "    \"\"\"\n",
        "    Generates text using the unigram model with greedy decoding.\n",
        "    \"\"\"\n",
        "    current_token = \"[BOS]\"\n",
        "    generated_text = [current_token]\n",
        "    for _ in range(max_seq_len - 1):\n",
        "        max_prob = 0\n",
        "        for word in unigram_model:\n",
        "            unigram_prob = unigram_model[word]\n",
        "\n",
        "            # TODO: Select the next token using greedy decoding\n",
        "            raise NotImplementedError\n",
        "\n",
        "        generated_text.append(next_token)\n",
        "        current_token = next_token\n",
        "\n",
        "        if current_token == \"[EOS]\":\n",
        "            break\n",
        "\n",
        "    return generated_text\n",
        "\n",
        "# Generate text using the unigram model\n",
        "generated_text = generate_text_unigram(unigram_model, 10)\n",
        "print(f\"Unigram generated texts: {' '.join(generated_text)}\")"
      ]
    },
    {
      "cell_type": "code",
      "execution_count": null,
      "id": "JNMDdgAGoH8Z",
      "metadata": {
        "id": "JNMDdgAGoH8Z"
      },
      "outputs": [],
      "source": [
        "def generate_text_bigram(bigram_model, unigram_model, max_seq_len):\n",
        "    \"\"\"\n",
        "    Generates text using the bigram model with greedy decoding.\n",
        "    \"\"\"\n",
        "    current_token = \"[BOS]\"\n",
        "    generated_text = [current_token]\n",
        "    for _ in range(max_seq_len - 1):\n",
        "        max_prob = 0\n",
        "        for word in unigram_model:\n",
        "            bigram_prob = bigram_model.get((current_token, word), 0)\n",
        "\n",
        "            # TODO: Select the next token using greedy decoding\n",
        "            raise NotImplementedError\n",
        "\n",
        "        generated_text.append(next_token)\n",
        "        current_token = next_token\n",
        "\n",
        "        if current_token == \"[EOS]\":\n",
        "            break\n",
        "\n",
        "    return generated_text\n",
        "\n",
        "# Generate text using the bigram model\n",
        "generated_text = generate_text_bigram(bigram_model, unigram_model, 10)\n",
        "print(f\"Bigram generated texts: {' '.join(generated_text)}\")\n"
      ]
    },
    {
      "cell_type": "code",
      "execution_count": null,
      "id": "DSrL-23oQ5ma",
      "metadata": {
        "id": "DSrL-23oQ5ma"
      },
      "outputs": [],
      "source": [
        "def generate_text_trigram(trigram_model, bigram_model, unigram_model, max_seq_len):\n",
        "    \"\"\"\n",
        "    Generates text using the trigram model with greedy decoding.\n",
        "    \"\"\"\n",
        "    current_token_1 = \"[BOS]\"\n",
        "    current_token_2 = None\n",
        "    generated_text = [current_token_1]\n",
        "\n",
        "    # Use bigram model to generate the second token\n",
        "    max_prob = 0\n",
        "    for word in unigram_model:\n",
        "        # TODO: Select the second token using greedy decoding\n",
        "        raise NotImplementedError\n",
        "\n",
        "    generated_text.append(next_token)\n",
        "    current_token_2 = next_token\n",
        "\n",
        "    if current_token_2 == \"[EOS]\":\n",
        "        return generated_text\n",
        "\n",
        "    # Use trigram model to generate the remaining tokens\n",
        "\n",
        "    for _ in range(max_seq_len - 2):\n",
        "        max_prob = 0\n",
        "        for word in unigram_model:\n",
        "\n",
        "            # TODO: Select the next token using greedy decoding\n",
        "            raise NotImplementedError\n",
        "\n",
        "        generated_text.append(next_token)\n",
        "        current_token_1 = current_token_2\n",
        "        current_token_2 = next_token\n",
        "\n",
        "        if current_token_2 == \"[EOS]\":\n",
        "            break\n",
        "\n",
        "    return generated_text\n",
        "\n",
        "# Generate text using the trigram model\n",
        "generated_text = generate_text_trigram(trigram_model, bigram_model, unigram_model, 15)\n",
        "print(f\"Trigram generated texts: {' '.join(generated_text)}\")\n"
      ]
    }
  ],
  "metadata": {
    "colab": {
      "provenance": []
    },
    "kernelspec": {
      "display_name": "assignments",
      "language": "python",
      "name": "python3"
    },
    "language_info": {
      "codemirror_mode": {
        "name": "ipython",
        "version": 3
      },
      "file_extension": ".py",
      "mimetype": "text/x-python",
      "name": "python",
      "nbconvert_exporter": "python",
      "pygments_lexer": "ipython3",
      "version": "3.12.11"
    }
  },
  "nbformat": 4,
  "nbformat_minor": 5
}
